{
  "nbformat": 4,
  "nbformat_minor": 0,
  "metadata": {
    "colab": {
      "provenance": [],
      "authorship_tag": "ABX9TyNIRLLtTPH3cdIC4m5xF9tZ",
      "include_colab_link": true
    },
    "kernelspec": {
      "name": "python3",
      "display_name": "Python 3"
    },
    "language_info": {
      "name": "python"
    }
  },
  "cells": [
    {
      "cell_type": "markdown",
      "metadata": {
        "id": "view-in-github",
        "colab_type": "text"
      },
      "source": [
        "<a href=\"https://colab.research.google.com/github/DCI-alxogm/ml2023-DavRo24/blob/main/Ago11-12/Apuntes/Clase-10-08.ipynb\" target=\"_parent\"><img src=\"https://colab.research.google.com/assets/colab-badge.svg\" alt=\"Open In Colab\"/></a>"
      ]
    },
    {
      "cell_type": "code",
      "execution_count": null,
      "metadata": {
        "id": "4b-mGyzE7TPi"
      },
      "outputs": [],
      "source": [
        "import numpy as np\n",
        "import array as ar"
      ]
    },
    {
      "cell_type": "code",
      "execution_count": null,
      "metadata": {
        "id": "pO4FHCwByQH7",
        "outputId": "b7445a92-f823-4364-f88c-d7ab255e4f6b",
        "colab": {
          "base_uri": "https://localhost:8080/"
        }
      },
      "outputs": [
        {
          "output_type": "execute_result",
          "data": {
            "text/plain": [
              "[2, '2', 3, 'dos', 4]"
            ]
          },
          "metadata": {},
          "execution_count": 1
        }
      ],
      "source": [
        "lista1 = [2, \"2\", \"dos\"]\n",
        "lista1.append(4)    #Añade el argumento del append en la lista\n",
        "lista1.insert(2,3)  #Hace lo mismmo, pero (posición del argumento, valor)\n",
        "lista1"
      ]
    },
    {
      "cell_type": "code",
      "source": [
        "lista1.remove(4)  #Borra todas las coincidencias\n",
        "del lista1[1]     #Borra la posición que se ha dado\n",
        "lista1.pop()      #Proporciona el último elemento de la lista que exista y elimina el elemento\n",
        "lista1"
      ],
      "metadata": {
        "colab": {
          "base_uri": "https://localhost:8080/"
        },
        "id": "G3zx59uQyuCr",
        "outputId": "7a1373fb-2901-4c1f-d0ca-49dbfe727049"
      },
      "execution_count": null,
      "outputs": [
        {
          "output_type": "execute_result",
          "data": {
            "text/plain": [
              "[2, 3]"
            ]
          },
          "metadata": {},
          "execution_count": 2
        }
      ]
    },
    {
      "cell_type": "markdown",
      "source": [
        "For en Python"
      ],
      "metadata": {
        "id": "4aQVZBrz--yH"
      }
    },
    {
      "cell_type": "code",
      "source": [
        "for i in lista1:\n",
        "  print(i)"
      ],
      "metadata": {
        "colab": {
          "base_uri": "https://localhost:8080/"
        },
        "id": "7hMeNbAY1kdW",
        "outputId": "cc335386-4211-4990-dae8-3a2e51cbe877"
      },
      "execution_count": null,
      "outputs": [
        {
          "output_type": "stream",
          "name": "stdout",
          "text": [
            "2\n",
            "3\n"
          ]
        }
      ]
    },
    {
      "cell_type": "code",
      "source": [
        "for i in range(len(lista1)): #Range len lee la posición y la guarda en i\n",
        "  print(i, lista1[i])\n",
        "for i, item in enumerate(lista1): #Otra forma de hacer lo mismo\n",
        "  print(i, item)"
      ],
      "metadata": {
        "id": "rW7feZl0_C0-",
        "outputId": "62ae1f01-0d3b-4c26-8580-b68305ecfc91",
        "colab": {
          "base_uri": "https://localhost:8080/"
        }
      },
      "execution_count": null,
      "outputs": [
        {
          "output_type": "stream",
          "name": "stdout",
          "text": [
            "0 2\n",
            "1 3\n",
            "0 2\n",
            "1 3\n"
          ]
        }
      ]
    },
    {
      "cell_type": "code",
      "source": [
        "arreglo1 = ar.array(\"i\", [1,2,3])\n",
        "arreglo2 = ar.array(\"i\", [1,2,3])\n",
        "arreglo1*arreglo2   #No podemos multiplicar arreglos con la librería de array"
      ],
      "metadata": {
        "id": "iAdL-IlI_GDG",
        "outputId": "8d805b68-bf9c-4451-a066-700cfe68747b",
        "colab": {
          "base_uri": "https://localhost:8080/",
          "height": 210
        }
      },
      "execution_count": null,
      "outputs": [
        {
          "output_type": "error",
          "ename": "TypeError",
          "evalue": "ignored",
          "traceback": [
            "\u001b[0;31m---------------------------------------------------------------------------\u001b[0m",
            "\u001b[0;31mTypeError\u001b[0m                                 Traceback (most recent call last)",
            "\u001b[0;32m<ipython-input-8-7df7baf74838>\u001b[0m in \u001b[0;36m<cell line: 3>\u001b[0;34m()\u001b[0m\n\u001b[1;32m      1\u001b[0m \u001b[0marreglo1\u001b[0m \u001b[0;34m=\u001b[0m \u001b[0mar\u001b[0m\u001b[0;34m.\u001b[0m\u001b[0marray\u001b[0m\u001b[0;34m(\u001b[0m\u001b[0;34m\"i\"\u001b[0m\u001b[0;34m,\u001b[0m \u001b[0;34m[\u001b[0m\u001b[0;36m1\u001b[0m\u001b[0;34m,\u001b[0m\u001b[0;36m2\u001b[0m\u001b[0;34m,\u001b[0m\u001b[0;36m3\u001b[0m\u001b[0;34m]\u001b[0m\u001b[0;34m)\u001b[0m\u001b[0;34m\u001b[0m\u001b[0;34m\u001b[0m\u001b[0m\n\u001b[1;32m      2\u001b[0m \u001b[0marreglo2\u001b[0m \u001b[0;34m=\u001b[0m \u001b[0mar\u001b[0m\u001b[0;34m.\u001b[0m\u001b[0marray\u001b[0m\u001b[0;34m(\u001b[0m\u001b[0;34m\"i\"\u001b[0m\u001b[0;34m,\u001b[0m \u001b[0;34m[\u001b[0m\u001b[0;36m1\u001b[0m\u001b[0;34m,\u001b[0m\u001b[0;36m2\u001b[0m\u001b[0;34m,\u001b[0m\u001b[0;36m3\u001b[0m\u001b[0;34m]\u001b[0m\u001b[0;34m)\u001b[0m\u001b[0;34m\u001b[0m\u001b[0;34m\u001b[0m\u001b[0m\n\u001b[0;32m----> 3\u001b[0;31m \u001b[0marreglo1\u001b[0m\u001b[0;34m*\u001b[0m\u001b[0marreglo2\u001b[0m   \u001b[0;31m#no podemos multiplicar arreglos con la librería de array\u001b[0m\u001b[0;34m\u001b[0m\u001b[0;34m\u001b[0m\u001b[0m\n\u001b[0m",
            "\u001b[0;31mTypeError\u001b[0m: can't multiply sequence by non-int of type 'array.array'"
          ]
        }
      ]
    },
    {
      "cell_type": "code",
      "source": [
        "#Se puede multiplicar pero guardando en variables distintas\n",
        "nparr1 = np.array([1,2,3])\n",
        "nparr2 = np.array([4,5,6])\n",
        "nparr1*nparr2"
      ],
      "metadata": {
        "id": "MwVNmv1L_jnO",
        "outputId": "4c70c1c6-e3db-4d0b-9dda-d0f8c1912fe2",
        "colab": {
          "base_uri": "https://localhost:8080/"
        }
      },
      "execution_count": null,
      "outputs": [
        {
          "output_type": "execute_result",
          "data": {
            "text/plain": [
              "array([ 4, 10, 18])"
            ]
          },
          "metadata": {},
          "execution_count": 10
        }
      ]
    },
    {
      "cell_type": "code",
      "source": [
        "np.dot(nparr1,nparr2) #Forma de hacer el producto punto del vector"
      ],
      "metadata": {
        "id": "JzBVPP8V_v11",
        "outputId": "c2cdedc7-428a-4d6a-ff67-2a869374d041",
        "colab": {
          "base_uri": "https://localhost:8080/"
        }
      },
      "execution_count": null,
      "outputs": [
        {
          "output_type": "execute_result",
          "data": {
            "text/plain": [
              "32"
            ]
          },
          "metadata": {},
          "execution_count": 12
        }
      ]
    },
    {
      "cell_type": "code",
      "source": [],
      "metadata": {
        "id": "Lh6X6Wio_xxN"
      },
      "execution_count": null,
      "outputs": []
    }
  ]
}
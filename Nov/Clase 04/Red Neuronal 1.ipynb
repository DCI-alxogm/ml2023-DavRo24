{
  "nbformat": 4,
  "nbformat_minor": 0,
  "metadata": {
    "colab": {
      "provenance": [],
      "mount_file_id": "1p6IzzyIWdk9n9rO8Gk94a-SzRb6YGi-O",
      "authorship_tag": "ABX9TyNyf7p0uFRMm0qC7PnmcNtq",
      "include_colab_link": true
    },
    "kernelspec": {
      "name": "python3",
      "display_name": "Python 3"
    },
    "language_info": {
      "name": "python"
    }
  },
  "cells": [
    {
      "cell_type": "markdown",
      "metadata": {
        "id": "view-in-github",
        "colab_type": "text"
      },
      "source": [
        "<a href=\"https://colab.research.google.com/github/DCI-alxogm/ml2023-DavRo24/blob/main/Nov/Clase%2004/Red%20Neuronal%201.ipynb\" target=\"_parent\"><img src=\"https://colab.research.google.com/assets/colab-badge.svg\" alt=\"Open In Colab\"/></a>"
      ]
    },
    {
      "cell_type": "code",
      "execution_count": 1,
      "metadata": {
        "id": "KvENHAts9SGa"
      },
      "outputs": [],
      "source": [
        "import glob\n",
        "import numpy as np\n",
        "import copy\n",
        "import matplotlib.pyplot as plt\n",
        "import h5py\n",
        "import scipy\n",
        "from PIL import Image\n",
        "from scipy import ndimage\n",
        "\n",
        "%matplotlib inline"
      ]
    },
    {
      "cell_type": "code",
      "source": [
        "#Los datos corresponden a un subset del dataset cats vs dogs de https://www.kaggle.com/c/dogs-vs-cats\n",
        "files=glob.glob('/content/drive/MyDrive/Machine-Learning-2023/CATS_DOGS/CATS_DOGS/*')"
      ],
      "metadata": {
        "id": "nlIRT4j5Kjpy"
      },
      "execution_count": 2,
      "outputs": []
    },
    {
      "cell_type": "code",
      "source": [
        "len(files)"
      ],
      "metadata": {
        "colab": {
          "base_uri": "https://localhost:8080/"
        },
        "id": "UEKcZa3FKrMC",
        "outputId": "77d919ef-5832-4399-eb75-9a204ea92030"
      },
      "execution_count": 3,
      "outputs": [
        {
          "output_type": "execute_result",
          "data": {
            "text/plain": [
              "1787"
            ]
          },
          "metadata": {},
          "execution_count": 3
        }
      ]
    },
    {
      "cell_type": "code",
      "source": [
        "#numero de pixeles para nuestras imágenes.\n",
        "num_px=64"
      ],
      "metadata": {
        "id": "dUDE9h1HKtLI"
      },
      "execution_count": 4,
      "outputs": []
    },
    {
      "cell_type": "code",
      "source": [
        "train_x=[]\n",
        "train_y=[]\n",
        "for file in files[:250]:\n",
        "    img=Image.open(file)\n",
        "    img=img.resize((num_px,num_px))\n",
        "    data=np.asarray(img)\n",
        "    train_x.append(data)\n",
        "    img.close()\n",
        "    if 'dog' in file:\n",
        "        train_y.append(1)\n",
        "    if 'cat' in file:\n",
        "        train_y.append(0)\n",
        "train_y=np.asarray(train_y)\n",
        "train_x=np.asarray(train_x)"
      ],
      "metadata": {
        "id": "CZJsHJuMKvGO"
      },
      "execution_count": 5,
      "outputs": []
    },
    {
      "cell_type": "code",
      "source": [
        "plt.imshow(train_x[0])"
      ],
      "metadata": {
        "colab": {
          "base_uri": "https://localhost:8080/",
          "height": 449
        },
        "id": "DaJkxJNGKxrg",
        "outputId": "257fd19c-1697-4d94-8ab9-62822f7aeb06"
      },
      "execution_count": 6,
      "outputs": [
        {
          "output_type": "execute_result",
          "data": {
            "text/plain": [
              "<matplotlib.image.AxesImage at 0x78e1d0aae020>"
            ]
          },
          "metadata": {},
          "execution_count": 6
        },
        {
          "output_type": "display_data",
          "data": {
            "text/plain": [
              "<Figure size 640x480 with 1 Axes>"
            ],
            "image/png": "[encoded data removed]"
          },
          "metadata": {}
        }
      ]
    },
    {
      "cell_type": "code",
      "source": [
        "test_x=[]\n",
        "test_y=[]\n",
        "for file in files[1710:]:\n",
        "    #print(file)\n",
        "    img=Image.open(file)\n",
        "    img=img.resize((num_px,num_px))\n",
        "    data=np.asarray(img)\n",
        "    test_x.append(data)\n",
        "    img.close()\n",
        "    if 'dog' in file:\n",
        "        test_y.append(1)\n",
        "    if 'cat' in file:\n",
        "        test_y.append(0)\n",
        "test_y=np.asarray(test_y)\n",
        "test_x=np.asarray(test_x)"
      ],
      "metadata": {
        "id": "0swqxElpK0L9"
      },
      "execution_count": 7,
      "outputs": []
    },
    {
      "cell_type": "code",
      "source": [
        "plt.imshow(test_x[1])"
      ],
      "metadata": {
        "colab": {
          "base_uri": "https://localhost:8080/",
          "height": 449
        },
        "id": "sBqPd9DMK3xk",
        "outputId": "575cb70e-7a4a-46fe-bdd4-ccbaeff89c0e"
      },
      "execution_count": 8,
      "outputs": [
        {
          "output_type": "execute_result",
          "data": {
            "text/plain": [
              "<matplotlib.image.AxesImage at 0x78e1d06d1a50>"
            ]
          },
          "metadata": {},
          "execution_count": 8
        },
        {
          "output_type": "display_data",
          "data": {
            "text/plain": [
              "<Figure size 640x480 with 1 Axes>"
            ],
            "image/png": "[encoded data removed]"
          },
          "metadata": {}
        }
      ]
    },
    {
      "cell_type": "code",
      "source": [
        "train_x_flatten = train_x.reshape(train_x.shape[0], -1).T\n",
        "\n",
        "test_x_flatten = test_x.reshape(test_x.shape[0], -1).T\n",
        "\n",
        "train_set_y=train_y.reshape((1,train_y.shape[0]))\n",
        "test_set_y=test_y.reshape((1,test_y.shape[0]))"
      ],
      "metadata": {
        "id": "ptZU4RMSK4VY"
      },
      "execution_count": 9,
      "outputs": []
    },
    {
      "cell_type": "code",
      "source": [
        "train_set_x= train_x_flatten/255\n",
        "test_set_x= test_x_flatten/255"
      ],
      "metadata": {
        "id": "LzXFy9hBK6rT"
      },
      "execution_count": 10,
      "outputs": []
    },
    {
      "cell_type": "code",
      "source": [
        "# Define la función sigmoide\n",
        "def sigmoid(z):\n",
        "    return 1 / (1 + np.exp(-z))\n",
        "\n",
        "# Inicialización de parámetros\n",
        "W = np.zeros((num_px * num_px * 3, 1))\n",
        "b = 0\n",
        "\n",
        "#Definir la función de costo: Implementa la función de costo de la regresión logística (puedes usar la entropía cruzada binaria):\n",
        "def compute_cost(A, Y):\n",
        "    m = Y.shape[1]\n",
        "    return -1/m * np.sum(Y * np.log(A) + (1 - Y) * np.log(1 - A))\n",
        "\n",
        "# Hiperparámetros\n",
        "learning_rate = 0.01\n",
        "num_iterations = 1700\n",
        "m = train_set_x.shape[1]\n",
        "\n",
        "\n",
        "# Entrenamiento de regresión logística\n",
        "for i in range(num_iterations):\n",
        "    Z = np.dot(W.T, train_set_x) + b\n",
        "    A = sigmoid(Z)\n",
        "\n",
        "    # Calcula la función de costo\n",
        "    cost = -1/m * np.sum(train_set_y * np.log(A) + (1 - train_set_y) * np.log(1 - A))\n",
        "\n",
        "    # Calcula las derivadas\n",
        "    dZ = A - train_set_y\n",
        "    dW = 1/m * np.dot(train_set_x, dZ.T)\n",
        "    db = 1/m * np.sum(dZ)\n",
        "\n",
        "    # Actualiza los parámetros\n",
        "    W = W - learning_rate * dW\n",
        "    b = b - learning_rate * db\n",
        "\n",
        "    if i % 100 == 0:\n",
        "        print(f\"Iteration {i}, Cost: {cost}\")\n"
      ],
      "metadata": {
        "colab": {
          "base_uri": "https://localhost:8080/"
        },
        "id": "H11kF9dXMV_X",
        "outputId": "663600cb-74f0-4a20-bd3a-1c2e198ae410"
      },
      "execution_count": 17,
      "outputs": [
        {
          "output_type": "stream",
          "name": "stdout",
          "text": [
            "Iteration 0, Cost: 0.6931471805599454\n",
            "Iteration 100, Cost: 0.3156309169913814\n",
            "Iteration 200, Cost: 0.3593602732533818\n",
            "Iteration 300, Cost: 0.3539741496841132\n",
            "Iteration 400, Cost: 0.27679253929282366\n",
            "Iteration 500, Cost: 0.20133274645342608\n",
            "Iteration 600, Cost: 0.14798255953756842\n",
            "Iteration 700, Cost: 0.1320149405833401\n",
            "Iteration 800, Cost: 0.12123587432737438\n",
            "Iteration 900, Cost: 0.11198721151220285\n",
            "Iteration 1000, Cost: 0.10394149361148024\n",
            "Iteration 1100, Cost: 0.09687049591820357\n",
            "Iteration 1200, Cost: 0.09060646540729714\n",
            "Iteration 1300, Cost: 0.08502167320570463\n",
            "Iteration 1400, Cost: 0.08001600134302\n",
            "Iteration 1500, Cost: 0.07550899206604753\n",
            "Iteration 1600, Cost: 0.07143464022135493\n"
          ]
        }
      ]
    },
    {
      "cell_type": "code",
      "source": [
        "# Evaluación del modelo en el conjunto de prueba\n",
        "Z_test = np.dot(W.T, test_set_x) + b\n",
        "A_test = sigmoid(Z_test)"
      ],
      "metadata": {
        "id": "gr6V9UweUHEN"
      },
      "execution_count": 15,
      "outputs": []
    },
    {
      "cell_type": "code",
      "source": [
        "# Aplicación de un umbral para obtener las predicciones\n",
        "threshold = 0.5\n",
        "predictions = (A_test > threshold).astype(int)\n",
        "\n",
        "# Evaluar el rendimiento del modelo, por ejemplo, calculando la precisión\n",
        "accuracy = np.mean(predictions == test_set_y)\n",
        "print(f\"Accuracy on test set: {accuracy}\")"
      ],
      "metadata": {
        "colab": {
          "base_uri": "https://localhost:8080/"
        },
        "id": "tBr9b0cQUR6R",
        "outputId": "24fde560-678c-45a8-b193-0355aec95a9a"
      },
      "execution_count": 19,
      "outputs": [
        {
          "output_type": "stream",
          "name": "stdout",
          "text": [
            "Accuracy on test set: 0.6103896103896104\n"
          ]
        }
      ]
    },
    {
      "cell_type": "code",
      "source": [],
      "metadata": {
        "id": "tuTZRS9sV6Kl"
      },
      "execution_count": 20,
      "outputs": []
    },
    {
      "cell_type": "code",
      "source": [],
      "metadata": {
        "id": "IEuSkWYRdVuF"
      },
      "execution_count": null,
      "outputs": []
    }
  ]
}
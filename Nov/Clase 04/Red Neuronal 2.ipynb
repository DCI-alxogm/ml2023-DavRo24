{
  "nbformat": 4,
  "nbformat_minor": 0,
  "metadata": {
    "colab": {
      "provenance": [],
      "mount_file_id": "1P9dhn1oirf1n8-SoJLULpZsojphdQYtS",
      "authorship_tag": "ABX9TyO8C0UMIyZaazheXs5ZY2yt",
      "include_colab_link": true
    },
    "kernelspec": {
      "name": "python3",
      "display_name": "Python 3"
    },
    "language_info": {
      "name": "python"
    }
  },
  "cells": [
    {
      "cell_type": "markdown",
      "metadata": {
        "id": "view-in-github",
        "colab_type": "text"
      },
      "source": [
        "<a href=\"https://colab.research.google.com/github/DCI-alxogm/ml2023-DavRo24/blob/main/Nov/Clase%2004/Red%20Neuronal%202.ipynb\" target=\"_parent\"><img src=\"https://colab.research.google.com/assets/colab-badge.svg\" alt=\"Open In Colab\"/></a>"
      ]
    },
    {
      "cell_type": "code",
      "execution_count": 10,
      "metadata": {
        "id": "KvENHAts9SGa"
      },
      "outputs": [],
      "source": [
        "import glob\n",
        "import numpy as np\n",
        "import copy\n",
        "import matplotlib.pyplot as plt\n",
        "import h5py\n",
        "import scipy\n",
        "from PIL import Image\n",
        "from scipy import ndimage\n",
        "\n",
        "%matplotlib inline"
      ]
    },
    {
      "cell_type": "code",
      "source": [
        "#Los datos corresponden a un subset del dataset cats vs dogs de https://www.kaggle.com/c/dogs-vs-cats\n",
        "files=glob.glob('/content/drive/MyDrive/Machine-Learning-2023/CATS_DOGS/train/*')"
      ],
      "metadata": {
        "id": "nlIRT4j5Kjpy"
      },
      "execution_count": 11,
      "outputs": []
    },
    {
      "cell_type": "code",
      "source": [
        "len(files)"
      ],
      "metadata": {
        "colab": {
          "base_uri": "https://localhost:8080/"
        },
        "id": "UEKcZa3FKrMC",
        "outputId": "2f54f440-076a-469a-951a-9548ce561800"
      },
      "execution_count": 12,
      "outputs": [
        {
          "output_type": "execute_result",
          "data": {
            "text/plain": [
              "4340"
            ]
          },
          "metadata": {},
          "execution_count": 12
        }
      ]
    },
    {
      "cell_type": "code",
      "source": [
        "#numero de pixeles para nuestras imágenes.\n",
        "num_px=64"
      ],
      "metadata": {
        "id": "dUDE9h1HKtLI"
      },
      "execution_count": 13,
      "outputs": []
    },
    {
      "cell_type": "code",
      "source": [
        "train_x=[]\n",
        "train_y=[]\n",
        "for file in files[:250]:\n",
        "    img=Image.open(file)\n",
        "    img=img.resize((num_px,num_px))\n",
        "    data=np.asarray(img)\n",
        "    train_x.append(data)\n",
        "    img.close()\n",
        "    if 'dog' in file:\n",
        "        train_y.append(1)\n",
        "    if 'cat' in file:\n",
        "        train_y.append(0)\n",
        "train_y=np.asarray(train_y)\n",
        "train_x=np.asarray(train_x)"
      ],
      "metadata": {
        "id": "CZJsHJuMKvGO"
      },
      "execution_count": 14,
      "outputs": []
    },
    {
      "cell_type": "code",
      "source": [
        "plt.imshow(train_x[0])"
      ],
      "metadata": {
        "colab": {
          "base_uri": "https://localhost:8080/",
          "height": 449
        },
        "id": "DaJkxJNGKxrg",
        "outputId": "7fa7c3f1-a712-4540-a9b6-7bf786ad73f5"
      },
      "execution_count": 15,
      "outputs": [
        {
          "output_type": "execute_result",
          "data": {
            "text/plain": [
              "<matplotlib.image.AxesImage at 0x7ebbdf6d2650>"
            ]
          },
          "metadata": {},
          "execution_count": 15
        },
        {
          "output_type": "display_data",
          "data": {
            "text/plain": [
              "<Figure size 640x480 with 1 Axes>"
            ],
            "image/png": "[encoded data removed]"
          },
          "metadata": {}
        }
      ]
    },
    {
      "cell_type": "code",
      "source": [
        "test_x=[]\n",
        "test_y=[]\n",
        "for file in files[4090:]:\n",
        "    #print(file)\n",
        "    img=Image.open(file)\n",
        "    img=img.resize((num_px,num_px))\n",
        "    data=np.asarray(img)\n",
        "    test_x.append(data)\n",
        "    img.close()\n",
        "    if 'dog' in file:\n",
        "        test_y.append(1)\n",
        "    if 'cat' in file:\n",
        "        test_y.append(0)\n",
        "test_y=np.asarray(test_y)\n",
        "test_x=np.asarray(test_x)"
      ],
      "metadata": {
        "id": "0swqxElpK0L9"
      },
      "execution_count": 21,
      "outputs": []
    },
    {
      "cell_type": "code",
      "source": [
        "plt.imshow(test_x[1])"
      ],
      "metadata": {
        "colab": {
          "base_uri": "https://localhost:8080/",
          "height": 449
        },
        "id": "sBqPd9DMK3xk",
        "outputId": "93aacf4d-7f87-417b-cdb6-c0962b49ceb8"
      },
      "execution_count": 22,
      "outputs": [
        {
          "output_type": "execute_result",
          "data": {
            "text/plain": [
              "<matplotlib.image.AxesImage at 0x7ebbdf38e5f0>"
            ]
          },
          "metadata": {},
          "execution_count": 22
        },
        {
          "output_type": "display_data",
          "data": {
            "text/plain": [
              "<Figure size 640x480 with 1 Axes>"
            ],
            "image/png": "[encoded data removed]"
          },
          "metadata": {}
        }
      ]
    },
    {
      "cell_type": "code",
      "source": [
        "train_x_flatten = train_x.reshape(train_x.shape[0], -1).T\n",
        "\n",
        "test_x_flatten = test_x.reshape(test_x.shape[0], -1).T\n",
        "\n",
        "train_set_y=train_y.reshape((1,train_y.shape[0]))\n",
        "test_set_y=test_y.reshape((1,test_y.shape[0]))"
      ],
      "metadata": {
        "id": "ptZU4RMSK4VY"
      },
      "execution_count": 23,
      "outputs": []
    },
    {
      "cell_type": "code",
      "source": [
        "train_set_x= train_x_flatten/255\n",
        "test_set_x= test_x_flatten/255"
      ],
      "metadata": {
        "id": "LzXFy9hBK6rT"
      },
      "execution_count": 24,
      "outputs": []
    },
    {
      "cell_type": "code",
      "source": [
        "# Define la función sigmoide\n",
        "def sigmoid(z):\n",
        "    return 1 / (1 + np.exp(-z))\n",
        "\n",
        "# Inicialización de parámetros\n",
        "W = np.zeros((num_px * num_px * 3, 1))\n",
        "b = 0\n",
        "\n",
        "#Definir la función de costo: Implementa la función de costo de la regresión logística (puedes usar la entropía cruzada binaria):\n",
        "def compute_cost(A, Y):\n",
        "    m = Y.shape[1]\n",
        "    return -1/m * np.sum(Y * np.log(A) + (1 - Y) * np.log(1 - A))\n",
        "\n",
        "# Hiperparámetros\n",
        "learning_rate = 0.01\n",
        "num_iterations = 4100\n",
        "m = train_set_x.shape[1]\n",
        "\n",
        "\n",
        "# Entrenamiento de regresión logística\n",
        "for i in range(num_iterations):\n",
        "    Z = np.dot(W.T, train_set_x) + b\n",
        "    A = sigmoid(Z)\n",
        "\n",
        "    # Calcula la función de costo\n",
        "    cost = -1/m * np.sum(train_set_y * np.log(A) + (1 - train_set_y) * np.log(1 - A))\n",
        "\n",
        "    # Calcula las derivadas\n",
        "    dZ = A - train_set_y\n",
        "    dW = 1/m * np.dot(train_set_x, dZ.T)\n",
        "    db = 1/m * np.sum(dZ)\n",
        "\n",
        "    # Actualiza los parámetros\n",
        "    W = W - learning_rate * dW\n",
        "    b = b - learning_rate * db\n",
        "\n",
        "    if i % 100 == 0:\n",
        "        print(f\"Iteration {i}, Cost: {cost}\")\n"
      ],
      "metadata": {
        "colab": {
          "base_uri": "https://localhost:8080/"
        },
        "id": "H11kF9dXMV_X",
        "outputId": "57954a9f-88c5-48de-deef-b2569b1475d8"
      },
      "execution_count": 27,
      "outputs": [
        {
          "output_type": "stream",
          "name": "stdout",
          "text": [
            "Iteration 0, Cost: 0.6931471805599454\n",
            "Iteration 100, Cost: 0.0003384750508372598\n",
            "Iteration 200, Cost: 0.000297111911496562\n",
            "Iteration 300, Cost: 0.00026518239804562883\n",
            "Iteration 400, Cost: 0.00023973492419668326\n",
            "Iteration 500, Cost: 0.00021894374154540037\n",
            "Iteration 600, Cost: 0.00020161608278282853\n",
            "Iteration 700, Cost: 0.0001869382435437213\n",
            "Iteration 800, Cost: 0.0001743352477351822\n",
            "Iteration 900, Cost: 0.00016338878727724265\n",
            "Iteration 1000, Cost: 0.00015378695998161736\n",
            "Iteration 1100, Cost: 0.00014529226455305778\n",
            "Iteration 1200, Cost: 0.0001377205365799254\n",
            "Iteration 1300, Cost: 0.0001309266851936919\n",
            "Iteration 1400, Cost: 0.0001247947924871732\n",
            "Iteration 1500, Cost: 0.00011923108997754223\n",
            "Iteration 1600, Cost: 0.00011415887901559097\n",
            "Iteration 1700, Cost: 0.00010951479332023978\n",
            "Iteration 1800, Cost: 0.00010524600618639935\n",
            "Iteration 1900, Cost: 0.00010130811425831311\n",
            "Iteration 2000, Cost: 9.766351352207156e-05\n",
            "Iteration 2100, Cost: 9.428013855022446e-05\n",
            "Iteration 2200, Cost: 9.113047334006323e-05\n",
            "Iteration 2300, Cost: 8.819076765741044e-05\n",
            "Iteration 2400, Cost: 8.544041059899932e-05\n",
            "Iteration 2500, Cost: 8.286142566069779e-05\n",
            "Iteration 2600, Cost: 8.04380605985342e-05\n",
            "Iteration 2700, Cost: 7.815645189185122e-05\n",
            "Iteration 2800, Cost: 7.600434839815412e-05\n",
            "Iteration 2900, Cost: 7.397088233112231e-05\n",
            "Iteration 3000, Cost: 7.204637834294455e-05\n",
            "Iteration 3100, Cost: 7.022219349358958e-05\n",
            "Iteration 3200, Cost: 6.84905824141096e-05\n",
            "Iteration 3300, Cost: 6.684458314203965e-05\n",
            "Iteration 3400, Cost: 6.527792001339497e-05\n",
            "Iteration 3500, Cost: 6.378492070226594e-05\n",
            "Iteration 3600, Cost: 6.236044505381041e-05\n",
            "Iteration 3700, Cost: 6.099982379469432e-05\n",
            "Iteration 3800, Cost: 5.969880555339539e-05\n",
            "Iteration 3900, Cost: 5.8453510901434376e-05\n",
            "Iteration 4000, Cost: 5.7260392350647316e-05\n"
          ]
        }
      ]
    },
    {
      "cell_type": "code",
      "source": [
        "# Evaluación del modelo en el conjunto de prueba\n",
        "Z_test = np.dot(W.T, test_set_x) + b\n",
        "A_test = sigmoid(Z_test)"
      ],
      "metadata": {
        "id": "gr6V9UweUHEN"
      },
      "execution_count": 28,
      "outputs": []
    },
    {
      "cell_type": "code",
      "source": [
        "# Aplicación de un umbral para obtener las predicciones\n",
        "threshold = 0.5\n",
        "predictions = (A_test > threshold).astype(int)\n",
        "\n",
        "# Evaluar el rendimiento del modelo, por ejemplo, calculando la precisión\n",
        "accuracy = np.mean(predictions == test_set_y)\n",
        "print(f\"Accuracy on test set: {accuracy}\")"
      ],
      "metadata": {
        "colab": {
          "base_uri": "https://localhost:8080/"
        },
        "id": "tBr9b0cQUR6R",
        "outputId": "1e8b33ec-112b-4c20-df50-4bf255c33d8b"
      },
      "execution_count": 29,
      "outputs": [
        {
          "output_type": "stream",
          "name": "stdout",
          "text": [
            "Accuracy on test set: 0.0\n"
          ]
        }
      ]
    },
    {
      "cell_type": "code",
      "source": [],
      "metadata": {
        "id": "tuTZRS9sV6Kl"
      },
      "execution_count": null,
      "outputs": []
    },
    {
      "cell_type": "code",
      "source": [],
      "metadata": {
        "id": "IEuSkWYRdVuF"
      },
      "execution_count": null,
      "outputs": []
    }
  ]
}
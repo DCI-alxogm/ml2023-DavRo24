{
  "nbformat": 4,
  "nbformat_minor": 0,
  "metadata": {
    "colab": {
      "provenance": [],
      "mount_file_id": "1mO1aHODvMho-pwaBw0zSPOmx6LnKrQsL",
      "authorship_tag": "ABX9TyOTGRm0hFo6b+tnoAgiWHMv",
      "include_colab_link": true
    },
    "kernelspec": {
      "name": "python3",
      "display_name": "Python 3"
    },
    "language_info": {
      "name": "python"
    }
  },
  "cells": [
    {
      "cell_type": "markdown",
      "metadata": {
        "id": "view-in-github",
        "colab_type": "text"
      },
      "source": [
        "<a href=\"https://colab.research.google.com/github/DCI-alxogm/ml2023-DavRo24/blob/main/Nov/Clase%2010/3_Layer_3_neurons_network.ipynb\" target=\"_parent\"><img src=\"https://colab.research.google.com/assets/colab-badge.svg\" alt=\"Open In Colab\"/></a>"
      ]
    },
    {
      "cell_type": "code",
      "execution_count": 1,
      "metadata": {
        "id": "UUB1WsFbT5Fm"
      },
      "outputs": [],
      "source": [
        "import glob\n",
        "import numpy as np\n",
        "import copy\n",
        "import matplotlib.pyplot as plt\n",
        "import h5py\n",
        "import scipy\n",
        "from PIL import Image\n",
        "from scipy import ndimage\n",
        "from sklearn.linear_model import LogisticRegression\n",
        "from sklearn import preprocessing\n",
        "%matplotlib inline"
      ]
    },
    {
      "cell_type": "code",
      "source": [
        "#Los datos corresponden a un subset del dataset cats vs dogs de https://www.kaggle.com/c/dogs-vs-cats\n",
        "files=glob.glob('/content/drive/MyDrive/Machine-Learning-2023/CATS_DOGS/train/*')"
      ],
      "metadata": {
        "id": "M2J4eQpUUMg3"
      },
      "execution_count": 2,
      "outputs": []
    },
    {
      "cell_type": "code",
      "source": [
        "num_px=64"
      ],
      "metadata": {
        "id": "AqUC9ed5Uef4"
      },
      "execution_count": 4,
      "outputs": []
    },
    {
      "cell_type": "code",
      "source": [
        "#We use firt 500 for test\n",
        "X=[]\n",
        "Y=[]\n",
        "nimages=150\n",
        "for file in files[:nimages]:\n",
        "    img=Image.open(file)\n",
        "    img=img.resize((num_px,num_px))\n",
        "    data=np.asarray(img)\n",
        "    X.append(data)\n",
        "    img.close()\n",
        "    if 'dog' in file:\n",
        "        Y.append(int(1))\n",
        "    if 'cat' in file:\n",
        "        Y.append(int(0))\n",
        "X=np.asarray(X)\n",
        "Y=np.asarray(Y)"
      ],
      "metadata": {
        "id": "ahmw6c5YUR-g"
      },
      "execution_count": 5,
      "outputs": []
    },
    {
      "cell_type": "code",
      "source": [
        "plt.imshow(X[5])"
      ],
      "metadata": {
        "colab": {
          "base_uri": "https://localhost:8080/",
          "height": 449
        },
        "id": "UH0WDUkSUb9A",
        "outputId": "dcdb5672-dd6d-4146-bec0-bfc8d7ca6ba7"
      },
      "execution_count": 6,
      "outputs": [
        {
          "output_type": "execute_result",
          "data": {
            "text/plain": [
              "<matplotlib.image.AxesImage at 0x7fd4f414ff40>"
            ]
          },
          "metadata": {},
          "execution_count": 6
        },
        {
          "output_type": "display_data",
          "data": {
            "text/plain": [
              "<Figure size 640x480 with 1 Axes>"
            ],
            "image/png": "[encoded data removed]"
          },
          "metadata": {}
        }
      ]
    },
    {
      "cell_type": "code",
      "source": [
        "from sklearn.model_selection import train_test_split\n",
        "from sklearn.neural_network import MLPClassifier\n",
        "\n",
        "X_flatten = X.reshape(X.shape[0], -1).T\n",
        "scaler=preprocessing.StandardScaler().fit(X_flatten)\n",
        "X_scaled = scaler.transform(X_flatten)\n",
        "\n",
        "x_train, x_test, y_train, y_test = train_test_split(X_scaled.T,Y, test_size=0.15, random_state=42)\n",
        "x_train.shape,x_test.shape\n"
      ],
      "metadata": {
        "colab": {
          "base_uri": "https://localhost:8080/"
        },
        "id": "AMmU5AxrUpr8",
        "outputId": "79f951a9-534b-401e-dbc7-7d684c86900f"
      },
      "execution_count": 7,
      "outputs": [
        {
          "output_type": "execute_result",
          "data": {
            "text/plain": [
              "((127, 12288), (23, 12288))"
            ]
          },
          "metadata": {},
          "execution_count": 7
        }
      ]
    },
    {
      "cell_type": "code",
      "source": [
        "import tensorflow as tf\n",
        "from tensorflow.keras.models import Sequential\n",
        "from tensorflow.keras.layers import Dense\n",
        "from sklearn.neural_network import MLPClassifier  # Importa MLPClassifier de sklearn\n",
        "\n",
        "regr = MLPClassifier(hidden_layer_sizes=1, activation='logistic', solver='sgd', random_state=1)\n",
        "regr.fit(x_train, y_train)\n",
        "\n",
        "tf.random.set_seed(1234)\n",
        "model = Sequential([\n",
        "    tf.keras.Input(shape=(x_train.shape[1],)),\n",
        "    Dense(1, activation='sigmoid', name='layer1')\n",
        "])\n"
      ],
      "metadata": {
        "colab": {
          "base_uri": "https://localhost:8080/"
        },
        "id": "Di3CXz35UtW7",
        "outputId": "7771151f-f1aa-4fc4-aa6d-3ca8c3f4820e"
      },
      "execution_count": 9,
      "outputs": [
        {
          "output_type": "stream",
          "name": "stderr",
          "text": [
            "/usr/local/lib/python3.10/dist-packages/sklearn/neural_network/_multilayer_perceptron.py:686: ConvergenceWarning: Stochastic Optimizer: Maximum iterations (200) reached and the optimization hasn't converged yet.\n",
            "  warnings.warn(\n"
          ]
        }
      ]
    },
    {
      "cell_type": "code",
      "source": [
        "model.summary()\n",
        "model.compile(\n",
        "    loss = tf.keras.losses.BinaryCrossentropy(),\n",
        "    optimizer='sgd',\n",
        "    metrics=[tf.keras.metrics.BinaryAccuracy()]\n",
        ")\n",
        "\n",
        "model.fit(\n",
        "    x_train,y_train,\n",
        "    epochs=100,\n",
        ")\n",
        "\n",
        "y_pred_test=regr.predict(x_test)\n",
        "regr.score(x_test, y_test)\n",
        "index=np.random.randint(len(x_test))\n",
        "plt.imshow(x_test[index].reshape((num_px, num_px, 3)))\n",
        "print (\"y = \" + str(y_test[index]) + \", you predicted that it is a \\\"\" + str(y_pred_test[index]))\n",
        "\n",
        "lr_model = LogisticRegression()\n",
        "lr_model.fit(x_train,y_train)\n",
        "\n",
        "print(\"accuracy in train set: \", lr_model.score(x_train,y_train))\n",
        "print(\"accuracy in test set: \", lr_model.score(x_test,y_test))\n",
        "\n",
        "y_pred_test=lr_model.predict(x_test)"
      ],
      "metadata": {
        "colab": {
          "base_uri": "https://localhost:8080/",
          "height": 1000
        },
        "id": "xxp7BFN7U3tf",
        "outputId": "f1a1e9cf-cf1f-4dab-c78d-0910cd143ab2"
      },
      "execution_count": 10,
      "outputs": [
        {
          "output_type": "stream",
          "name": "stdout",
          "text": [
            "Model: \"sequential\"\n",
            "_________________________________________________________________\n",
            " Layer (type)                Output Shape              Param #   \n",
            "=================================================================\n",
            " layer1 (Dense)              (None, 1)                 12289     \n",
            "                                                                 \n",
            "=================================================================\n",
            "Total params: 12289 (48.00 KB)\n",
            "Trainable params: 12289 (48.00 KB)\n",
            "Non-trainable params: 0 (0.00 Byte)\n",
            "_________________________________________________________________\n",
            "Epoch 1/100\n",
            "4/4 [==============================] - 1s 9ms/step - loss: 1.4776 - binary_accuracy: 0.4567\n",
            "Epoch 2/100\n",
            "4/4 [==============================] - 0s 5ms/step - loss: 0.6374 - binary_accuracy: 0.7008\n",
            "Epoch 3/100\n",
            "4/4 [==============================] - 0s 6ms/step - loss: 0.5779 - binary_accuracy: 0.7323\n",
            "Epoch 4/100\n",
            "4/4 [==============================] - 0s 6ms/step - loss: 0.4636 - binary_accuracy: 0.7795\n",
            "Epoch 5/100\n",
            "4/4 [==============================] - 0s 6ms/step - loss: 0.4330 - binary_accuracy: 0.7480\n",
            "Epoch 6/100\n",
            "4/4 [==============================] - 0s 5ms/step - loss: 0.2485 - binary_accuracy: 0.9055\n",
            "Epoch 7/100\n",
            "4/4 [==============================] - 0s 5ms/step - loss: 0.1644 - binary_accuracy: 0.9685\n",
            "Epoch 8/100\n",
            "4/4 [==============================] - 0s 7ms/step - loss: 0.1116 - binary_accuracy: 0.9843\n",
            "Epoch 9/100\n",
            "4/4 [==============================] - 0s 10ms/step - loss: 0.0880 - binary_accuracy: 0.9843\n",
            "Epoch 10/100\n",
            "4/4 [==============================] - 0s 5ms/step - loss: 0.0650 - binary_accuracy: 1.0000\n",
            "Epoch 11/100\n",
            "4/4 [==============================] - 0s 8ms/step - loss: 0.0578 - binary_accuracy: 1.0000\n",
            "Epoch 12/100\n",
            "4/4 [==============================] - 0s 6ms/step - loss: 0.0541 - binary_accuracy: 1.0000\n",
            "Epoch 13/100\n",
            "4/4 [==============================] - 0s 6ms/step - loss: 0.0512 - binary_accuracy: 1.0000\n",
            "Epoch 14/100\n",
            "4/4 [==============================] - 0s 5ms/step - loss: 0.0464 - binary_accuracy: 1.0000\n",
            "Epoch 15/100\n",
            "4/4 [==============================] - 0s 7ms/step - loss: 0.0429 - binary_accuracy: 1.0000\n",
            "Epoch 16/100\n",
            "4/4 [==============================] - 0s 9ms/step - loss: 0.0406 - binary_accuracy: 1.0000\n",
            "Epoch 17/100\n",
            "4/4 [==============================] - 0s 8ms/step - loss: 0.0410 - binary_accuracy: 1.0000\n",
            "Epoch 18/100\n",
            "4/4 [==============================] - 0s 10ms/step - loss: 0.0379 - binary_accuracy: 1.0000\n",
            "Epoch 19/100\n",
            "4/4 [==============================] - 0s 6ms/step - loss: 0.0350 - binary_accuracy: 1.0000\n",
            "Epoch 20/100\n",
            "4/4 [==============================] - 0s 14ms/step - loss: 0.0339 - binary_accuracy: 1.0000\n",
            "Epoch 21/100\n",
            "4/4 [==============================] - 0s 9ms/step - loss: 0.0324 - binary_accuracy: 1.0000\n",
            "Epoch 22/100\n",
            "4/4 [==============================] - 0s 9ms/step - loss: 0.0304 - binary_accuracy: 1.0000\n",
            "Epoch 23/100\n",
            "4/4 [==============================] - 0s 15ms/step - loss: 0.0296 - binary_accuracy: 1.0000\n",
            "Epoch 24/100\n",
            "4/4 [==============================] - 0s 8ms/step - loss: 0.0286 - binary_accuracy: 1.0000\n",
            "Epoch 25/100\n",
            "4/4 [==============================] - 0s 6ms/step - loss: 0.0272 - binary_accuracy: 1.0000\n",
            "Epoch 26/100\n",
            "4/4 [==============================] - 0s 6ms/step - loss: 0.0259 - binary_accuracy: 1.0000\n",
            "Epoch 27/100\n",
            "4/4 [==============================] - 0s 6ms/step - loss: 0.0252 - binary_accuracy: 1.0000\n",
            "Epoch 28/100\n",
            "4/4 [==============================] - 0s 6ms/step - loss: 0.0245 - binary_accuracy: 1.0000\n",
            "Epoch 29/100\n",
            "4/4 [==============================] - 0s 6ms/step - loss: 0.0234 - binary_accuracy: 1.0000\n",
            "Epoch 30/100\n",
            "4/4 [==============================] - 0s 6ms/step - loss: 0.0231 - binary_accuracy: 1.0000\n",
            "Epoch 31/100\n",
            "4/4 [==============================] - 0s 6ms/step - loss: 0.0222 - binary_accuracy: 1.0000\n",
            "Epoch 32/100\n",
            "4/4 [==============================] - 0s 6ms/step - loss: 0.0216 - binary_accuracy: 1.0000\n",
            "Epoch 33/100\n",
            "4/4 [==============================] - 0s 6ms/step - loss: 0.0214 - binary_accuracy: 1.0000\n",
            "Epoch 34/100\n",
            "4/4 [==============================] - 0s 15ms/step - loss: 0.0205 - binary_accuracy: 1.0000\n",
            "Epoch 35/100\n",
            "4/4 [==============================] - 0s 12ms/step - loss: 0.0201 - binary_accuracy: 1.0000\n",
            "Epoch 36/100\n",
            "4/4 [==============================] - 0s 9ms/step - loss: 0.0194 - binary_accuracy: 1.0000\n",
            "Epoch 37/100\n",
            "4/4 [==============================] - 0s 6ms/step - loss: 0.0189 - binary_accuracy: 1.0000\n",
            "Epoch 38/100\n",
            "4/4 [==============================] - 0s 5ms/step - loss: 0.0184 - binary_accuracy: 1.0000\n",
            "Epoch 39/100\n",
            "4/4 [==============================] - 0s 6ms/step - loss: 0.0178 - binary_accuracy: 1.0000\n",
            "Epoch 40/100\n",
            "4/4 [==============================] - 0s 6ms/step - loss: 0.0177 - binary_accuracy: 1.0000\n",
            "Epoch 41/100\n",
            "4/4 [==============================] - 0s 5ms/step - loss: 0.0172 - binary_accuracy: 1.0000\n",
            "Epoch 42/100\n",
            "4/4 [==============================] - 0s 7ms/step - loss: 0.0168 - binary_accuracy: 1.0000\n",
            "Epoch 43/100\n",
            "4/4 [==============================] - 0s 5ms/step - loss: 0.0166 - binary_accuracy: 1.0000\n",
            "Epoch 44/100\n",
            "4/4 [==============================] - 0s 7ms/step - loss: 0.0160 - binary_accuracy: 1.0000\n",
            "Epoch 45/100\n",
            "4/4 [==============================] - 0s 6ms/step - loss: 0.0158 - binary_accuracy: 1.0000\n",
            "Epoch 46/100\n",
            "4/4 [==============================] - 0s 7ms/step - loss: 0.0156 - binary_accuracy: 1.0000\n",
            "Epoch 47/100\n",
            "4/4 [==============================] - 0s 7ms/step - loss: 0.0150 - binary_accuracy: 1.0000\n",
            "Epoch 48/100\n",
            "4/4 [==============================] - 0s 8ms/step - loss: 0.0150 - binary_accuracy: 1.0000\n",
            "Epoch 49/100\n",
            "4/4 [==============================] - 0s 7ms/step - loss: 0.0145 - binary_accuracy: 1.0000\n",
            "Epoch 50/100\n",
            "4/4 [==============================] - 0s 10ms/step - loss: 0.0143 - binary_accuracy: 1.0000\n",
            "Epoch 51/100\n",
            "4/4 [==============================] - 0s 7ms/step - loss: 0.0140 - binary_accuracy: 1.0000\n",
            "Epoch 52/100\n",
            "4/4 [==============================] - 0s 7ms/step - loss: 0.0139 - binary_accuracy: 1.0000\n",
            "Epoch 53/100\n",
            "4/4 [==============================] - 0s 9ms/step - loss: 0.0136 - binary_accuracy: 1.0000\n",
            "Epoch 54/100\n",
            "4/4 [==============================] - 0s 8ms/step - loss: 0.0134 - binary_accuracy: 1.0000\n",
            "Epoch 55/100\n",
            "4/4 [==============================] - 0s 11ms/step - loss: 0.0131 - binary_accuracy: 1.0000\n",
            "Epoch 56/100\n",
            "4/4 [==============================] - 0s 11ms/step - loss: 0.0128 - binary_accuracy: 1.0000\n",
            "Epoch 57/100\n",
            "4/4 [==============================] - 0s 7ms/step - loss: 0.0126 - binary_accuracy: 1.0000\n",
            "Epoch 58/100\n",
            "4/4 [==============================] - 0s 7ms/step - loss: 0.0124 - binary_accuracy: 1.0000\n",
            "Epoch 59/100\n",
            "4/4 [==============================] - 0s 9ms/step - loss: 0.0122 - binary_accuracy: 1.0000\n",
            "Epoch 60/100\n",
            "4/4 [==============================] - 0s 5ms/step - loss: 0.0121 - binary_accuracy: 1.0000\n",
            "Epoch 61/100\n",
            "4/4 [==============================] - 0s 6ms/step - loss: 0.0118 - binary_accuracy: 1.0000\n",
            "Epoch 62/100\n",
            "4/4 [==============================] - 0s 6ms/step - loss: 0.0116 - binary_accuracy: 1.0000\n",
            "Epoch 63/100\n",
            "4/4 [==============================] - 0s 7ms/step - loss: 0.0114 - binary_accuracy: 1.0000\n",
            "Epoch 64/100\n",
            "4/4 [==============================] - 0s 7ms/step - loss: 0.0113 - binary_accuracy: 1.0000\n",
            "Epoch 65/100\n",
            "4/4 [==============================] - 0s 6ms/step - loss: 0.0112 - binary_accuracy: 1.0000\n",
            "Epoch 66/100\n",
            "4/4 [==============================] - 0s 6ms/step - loss: 0.0109 - binary_accuracy: 1.0000\n",
            "Epoch 67/100\n",
            "4/4 [==============================] - 0s 5ms/step - loss: 0.0109 - binary_accuracy: 1.0000\n",
            "Epoch 68/100\n",
            "4/4 [==============================] - 0s 7ms/step - loss: 0.0106 - binary_accuracy: 1.0000\n",
            "Epoch 69/100\n",
            "4/4 [==============================] - 0s 5ms/step - loss: 0.0105 - binary_accuracy: 1.0000\n",
            "Epoch 70/100\n",
            "4/4 [==============================] - 0s 5ms/step - loss: 0.0104 - binary_accuracy: 1.0000\n",
            "Epoch 71/100\n",
            "4/4 [==============================] - 0s 5ms/step - loss: 0.0102 - binary_accuracy: 1.0000\n",
            "Epoch 72/100\n",
            "4/4 [==============================] - 0s 5ms/step - loss: 0.0101 - binary_accuracy: 1.0000\n",
            "Epoch 73/100\n",
            "4/4 [==============================] - 0s 11ms/step - loss: 0.0100 - binary_accuracy: 1.0000\n",
            "Epoch 74/100\n",
            "4/4 [==============================] - 0s 9ms/step - loss: 0.0098 - binary_accuracy: 1.0000\n",
            "Epoch 75/100\n",
            "4/4 [==============================] - 0s 6ms/step - loss: 0.0097 - binary_accuracy: 1.0000\n",
            "Epoch 76/100\n",
            "4/4 [==============================] - 0s 7ms/step - loss: 0.0096 - binary_accuracy: 1.0000\n",
            "Epoch 77/100\n",
            "4/4 [==============================] - 0s 8ms/step - loss: 0.0095 - binary_accuracy: 1.0000\n",
            "Epoch 78/100\n",
            "4/4 [==============================] - 0s 8ms/step - loss: 0.0093 - binary_accuracy: 1.0000\n",
            "Epoch 79/100\n",
            "4/4 [==============================] - 0s 8ms/step - loss: 0.0092 - binary_accuracy: 1.0000\n",
            "Epoch 80/100\n",
            "4/4 [==============================] - 0s 8ms/step - loss: 0.0091 - binary_accuracy: 1.0000\n",
            "Epoch 81/100\n",
            "4/4 [==============================] - 0s 7ms/step - loss: 0.0090 - binary_accuracy: 1.0000\n",
            "Epoch 82/100\n",
            "4/4 [==============================] - 0s 7ms/step - loss: 0.0090 - binary_accuracy: 1.0000\n",
            "Epoch 83/100\n",
            "4/4 [==============================] - 0s 8ms/step - loss: 0.0088 - binary_accuracy: 1.0000\n",
            "Epoch 84/100\n",
            "4/4 [==============================] - 0s 5ms/step - loss: 0.0088 - binary_accuracy: 1.0000\n",
            "Epoch 85/100\n",
            "4/4 [==============================] - 0s 6ms/step - loss: 0.0086 - binary_accuracy: 1.0000\n",
            "Epoch 86/100\n",
            "4/4 [==============================] - 0s 8ms/step - loss: 0.0085 - binary_accuracy: 1.0000\n",
            "Epoch 87/100\n",
            "4/4 [==============================] - 0s 7ms/step - loss: 0.0085 - binary_accuracy: 1.0000\n",
            "Epoch 88/100\n",
            "4/4 [==============================] - 0s 9ms/step - loss: 0.0084 - binary_accuracy: 1.0000\n",
            "Epoch 89/100\n",
            "4/4 [==============================] - 0s 13ms/step - loss: 0.0082 - binary_accuracy: 1.0000\n",
            "Epoch 90/100\n",
            "4/4 [==============================] - 0s 6ms/step - loss: 0.0081 - binary_accuracy: 1.0000\n",
            "Epoch 91/100\n",
            "4/4 [==============================] - 0s 6ms/step - loss: 0.0081 - binary_accuracy: 1.0000\n",
            "Epoch 92/100\n",
            "4/4 [==============================] - 0s 5ms/step - loss: 0.0080 - binary_accuracy: 1.0000\n",
            "Epoch 93/100\n",
            "4/4 [==============================] - 0s 7ms/step - loss: 0.0079 - binary_accuracy: 1.0000\n",
            "Epoch 94/100\n",
            "4/4 [==============================] - 0s 9ms/step - loss: 0.0078 - binary_accuracy: 1.0000\n",
            "Epoch 95/100\n",
            "4/4 [==============================] - 0s 13ms/step - loss: 0.0078 - binary_accuracy: 1.0000\n",
            "Epoch 96/100\n",
            "4/4 [==============================] - 0s 7ms/step - loss: 0.0077 - binary_accuracy: 1.0000\n",
            "Epoch 97/100\n",
            "4/4 [==============================] - 0s 7ms/step - loss: 0.0076 - binary_accuracy: 1.0000\n",
            "Epoch 98/100\n",
            "4/4 [==============================] - 0s 8ms/step - loss: 0.0075 - binary_accuracy: 1.0000\n",
            "Epoch 99/100\n",
            "4/4 [==============================] - 0s 8ms/step - loss: 0.0074 - binary_accuracy: 1.0000\n",
            "Epoch 100/100\n",
            "4/4 [==============================] - 0s 9ms/step - loss: 0.0074 - binary_accuracy: 1.0000\n"
          ]
        },
        {
          "output_type": "stream",
          "name": "stderr",
          "text": [
            "WARNING:matplotlib.image:Clipping input data to the valid range for imshow with RGB data ([0..1] for floats or [0..255] for integers).\n"
          ]
        },
        {
          "output_type": "stream",
          "name": "stdout",
          "text": [
            "y = 1, you predicted that it is a \"1\n"
          ]
        },
        {
          "output_type": "stream",
          "name": "stderr",
          "text": [
            "/usr/local/lib/python3.10/dist-packages/sklearn/linear_model/_logistic.py:458: ConvergenceWarning: lbfgs failed to converge (status=1):\n",
            "STOP: TOTAL NO. of ITERATIONS REACHED LIMIT.\n",
            "\n",
            "Increase the number of iterations (max_iter) or scale the data as shown in:\n",
            "    https://scikit-learn.org/stable/modules/preprocessing.html\n",
            "Please also refer to the documentation for alternative solver options:\n",
            "    https://scikit-learn.org/stable/modules/linear_model.html#logistic-regression\n",
            "  n_iter_i = _check_optimize_result(\n"
          ]
        },
        {
          "output_type": "stream",
          "name": "stdout",
          "text": [
            "accuracy in train set:  1.0\n",
            "accuracy in test set:  0.6521739130434783\n"
          ]
        },
        {
          "output_type": "display_data",
          "data": {
            "text/plain": [
              "<Figure size 640x480 with 1 Axes>"
            ],
            "image/png": "[encoded data removed]"
          },
          "metadata": {}
        }
      ]
    },
    {
      "cell_type": "code",
      "source": [
        "# Definir las dimensiones de la red neuronal\n",
        "input_size = x_train.shape[1]\n",
        "hidden_layer_1_size = 2\n",
        "hidden_layer_2_size = 2\n",
        "output_size = 1\n",
        "\n",
        "# Configurar la red neuronal\n",
        "model = Sequential([\n",
        "    Dense(hidden_layer_1_size, activation='sigmoid', input_shape=(input_size,), name='layer1'),\n",
        "    Dense(hidden_layer_2_size, activation='sigmoid', name='layer2'),\n",
        "    Dense(output_size, activation='sigmoid', name='output_layer')\n",
        "])\n",
        "\n",
        "# Compilar el modelo\n",
        "model.compile(\n",
        "    loss=tf.keras.losses.BinaryCrossentropy(),\n",
        "    optimizer='sgd',\n",
        "    metrics=[tf.keras.metrics.BinaryAccuracy()]\n",
        ")\n",
        "\n",
        "# Imprimir un resumen de la arquitectura de la red neuronal\n",
        "model.summary()\n",
        "\n",
        "# Entrenar la red neuronal\n",
        "model.fit(\n",
        "    x_train, y_train,\n",
        "    epochs=1,  # Solo una iteración como se solicita\n",
        ")\n",
        "\n",
        "# Realizar predicciones\n",
        "y_pred_test = model.predict(x_test)"
      ],
      "metadata": {
        "colab": {
          "base_uri": "https://localhost:8080/"
        },
        "id": "KPuD7lqLVgWW",
        "outputId": "5d3d11d6-30ed-4952-c1d0-4b8be7f092bd"
      },
      "execution_count": 11,
      "outputs": [
        {
          "output_type": "stream",
          "name": "stdout",
          "text": [
            "Model: \"sequential_1\"\n",
            "_________________________________________________________________\n",
            " Layer (type)                Output Shape              Param #   \n",
            "=================================================================\n",
            " layer1 (Dense)              (None, 2)                 24578     \n",
            "                                                                 \n",
            " layer2 (Dense)              (None, 2)                 6         \n",
            "                                                                 \n",
            " output_layer (Dense)        (None, 1)                 3         \n",
            "                                                                 \n",
            "=================================================================\n",
            "Total params: 24587 (96.04 KB)\n",
            "Trainable params: 24587 (96.04 KB)\n",
            "Non-trainable params: 0 (0.00 Byte)\n",
            "_________________________________________________________________\n",
            "4/4 [==============================] - 1s 8ms/step - loss: 0.9371 - binary_accuracy: 0.4567\n",
            "1/1 [==============================] - 0s 128ms/step\n"
          ]
        }
      ]
    },
    {
      "cell_type": "code",
      "source": [
        "# Imprimir resultados\n",
        "index = np.random.randint(len(x_test))\n",
        "plt.imshow(x_test[index].reshape((num_px, num_px, 3)))\n",
        "print(\"Real label: \", y_test[index])\n",
        "print(\"Predicted label: \", y_pred_test[index])"
      ],
      "metadata": {
        "colab": {
          "base_uri": "https://localhost:8080/",
          "height": 484
        },
        "id": "m4Y_TPDPVkoc",
        "outputId": "1864004d-12e4-4571-88e8-5ee41833c868"
      },
      "execution_count": 12,
      "outputs": [
        {
          "output_type": "stream",
          "name": "stderr",
          "text": [
            "WARNING:matplotlib.image:Clipping input data to the valid range for imshow with RGB data ([0..1] for floats or [0..255] for integers).\n"
          ]
        },
        {
          "output_type": "stream",
          "name": "stdout",
          "text": [
            "Real label:  0\n",
            "Predicted label:  [0.23985697]\n"
          ]
        },
        {
          "output_type": "display_data",
          "data": {
            "text/plain": [
              "<Figure size 640x480 with 1 Axes>"
            ],
            "image/png": "[encoded data removed]"
          },
          "metadata": {}
        }
      ]
    },
    {
      "cell_type": "code",
      "source": [],
      "metadata": {
        "id": "HbM_qRbRVmRw"
      },
      "execution_count": null,
      "outputs": []
    }
  ]
}